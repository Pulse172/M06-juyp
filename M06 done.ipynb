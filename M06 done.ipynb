{
 "cells": [
  {
   "cell_type": "markdown",
   "id": "791f6c1f",
   "metadata": {},
   "source": [
    "13.1"
   ]
  },
  {
   "cell_type": "code",
   "execution_count": 12,
   "id": "a39c72cb",
   "metadata": {},
   "outputs": [],
   "source": [
    "from datetime import date\n",
    "\n",
    "todays_date = date.today() \n",
    "\n",
    "date_var = todays_date.isoformat()\n",
    "\n",
    "with open(\"today.txt\", \"w\") as file:\n",
    "    file.write(date_var)"
   ]
  },
  {
   "cell_type": "markdown",
   "id": "89647243",
   "metadata": {},
   "source": [
    "13.2"
   ]
  },
  {
   "cell_type": "code",
   "execution_count": 13,
   "id": "36d97dce",
   "metadata": {},
   "outputs": [
    {
     "name": "stdout",
     "output_type": "stream",
     "text": [
      "2023-10-04\n"
     ]
    }
   ],
   "source": [
    "with open(\"today.txt\", \"r\") as file:\n",
    "    today_var = file.read()\n",
    "\n",
    "print(today_var)"
   ]
  },
  {
   "cell_type": "markdown",
   "id": "606f453a",
   "metadata": {},
   "source": [
    "13.3"
   ]
  },
  {
   "cell_type": "code",
   "execution_count": 14,
   "id": "0434c901",
   "metadata": {},
   "outputs": [
    {
     "name": "stdout",
     "output_type": "stream",
     "text": [
      "2023-10-04\n"
     ]
    }
   ],
   "source": [
    "parsed_date = date.fromisoformat(today_var)\n",
    "\n",
    "print(parsed_date)"
   ]
  },
  {
   "cell_type": "code",
   "execution_count": 14,
   "id": "c46caaf0",
   "metadata": {},
   "outputs": [
    {
     "name": "stdout",
     "output_type": "stream",
     "text": [
      "Finished in 0.7368940830195412 second(s)\n",
      "Finished in 0.07026060930963218 second(s)\n",
      "Finished in 0.8105562653224895 second(s)\n",
      "Finished in 1.62 second(s)\n"
     ]
    }
   ],
   "source": [
    "import multiprocessing\n",
    "import datetime\n",
    "import random\n",
    "import time\n",
    "\n",
    "start = time.perf_counter()\n",
    "\n",
    "def sample_process():\n",
    "    wait_time = random.uniform(0,1)\n",
    "    time.sleep(wait_time)\n",
    "    print(f'Finished in {wait_time} second(s)')\n",
    "        \n",
    "sample_process()\n",
    "sample_process()\n",
    "sample_process()\n",
    "          \n",
    "finish = time.perf_counter()\n",
    "\n",
    "print(f'Finished in {round(finish-start, 2)} second(s)')"
   ]
  },
  {
   "cell_type": "code",
   "execution_count": null,
   "id": "05426049",
   "metadata": {},
   "outputs": [],
   "source": []
  }
 ],
 "metadata": {
  "kernelspec": {
   "display_name": "Python 3 (ipykernel)",
   "language": "python",
   "name": "python3"
  },
  "language_info": {
   "codemirror_mode": {
    "name": "ipython",
    "version": 3
   },
   "file_extension": ".py",
   "mimetype": "text/x-python",
   "name": "python",
   "nbconvert_exporter": "python",
   "pygments_lexer": "ipython3",
   "version": "3.11.4"
  }
 },
 "nbformat": 4,
 "nbformat_minor": 5
}
